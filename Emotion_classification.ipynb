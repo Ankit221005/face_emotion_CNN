{
 "cells": [
  {
   "cell_type": "code",
   "execution_count": 1,
   "metadata": {},
   "outputs": [
    {
     "name": "stderr",
     "output_type": "stream",
     "text": [
      "Using TensorFlow backend.\n"
     ]
    }
   ],
   "source": [
    "import numpy as np\n",
    "from keras import layers\n",
    "from keras.layers import Input, Dense, Activation, ZeroPadding2D, BatchNormalization, Flatten, Conv2D\n",
    "from keras.layers import AveragePooling2D, MaxPooling2D, Dropout, GlobalMaxPooling2D, GlobalAveragePooling2D\n",
    "from keras.models import Model\n",
    "from keras.preprocessing import image\n",
    "from keras.utils import layer_utils\n",
    "from keras.utils.data_utils import get_file\n",
    "from keras.applications.imagenet_utils import preprocess_input\n",
    "import pydot\n",
    "from IPython.display import SVG\n",
    "from keras.utils.vis_utils import model_to_dot\n",
    "from keras.utils import plot_model\n",
    "from kt_utils import *\n",
    "import keras.backend as K\n",
    "K.set_image_data_format('channels_last')\n",
    "import matplotlib.pyplot as plt\n",
    "from matplotlib.pyplot import imshow\n",
    "%matplotlib inline"
   ]
  },
  {
   "cell_type": "code",
   "execution_count": 2,
   "metadata": {},
   "outputs": [
    {
     "name": "stdout",
     "output_type": "stream",
     "text": [
      "number of training examples = 600\n",
      "number of test examples = 150\n",
      "X_train shape: (600, 64, 64, 3)\n",
      "Y_train shape: (600, 1)\n",
      "X_test shape: (150, 64, 64, 3)\n",
      "Y_test shape: (150, 1)\n"
     ]
    }
   ],
   "source": [
    "X_train_orig, Y_train_orig, X_test_orig, Y_test_orig, classes=load_dataset()\n",
    "X_train=X_train_orig/255\n",
    "X_test=X_test_orig/255\n",
    "Y_train=Y_train_orig.T\n",
    "Y_test=Y_test_orig.T\n",
    "print (\"number of training examples = \" + str(X_train.shape[0]))\n",
    "print (\"number of test examples = \" + str(X_test.shape[0]))\n",
    "print (\"X_train shape: \" + str(X_train.shape))\n",
    "print (\"Y_train shape: \" + str(Y_train.shape))\n",
    "print (\"X_test shape: \" + str(X_test.shape))\n",
    "print (\"Y_test shape: \" + str(Y_test.shape))\n"
   ]
  },
  {
   "cell_type": "code",
   "execution_count": 3,
   "metadata": {},
   "outputs": [],
   "source": [
    "def model(input_shape):\n",
    "    # Define the input placeholder as a tensor with shape input_shape. Think of this as your input image!\n",
    "    X_input=Input(input_shape)\n",
    "    # Zero-Padding: pads the border of X_input with zeroes\n",
    "    X=ZeroPadding2D((3,3))(X_input)\n",
    "    # CONV -> BN -> RELU Block applied to X\n",
    "    X=Conv2D(32,(7,7),strides=(1,1),name=\"conv0\")(X)\n",
    "    X=BatchNormalization(axis=3,name=\"bn0\")(X)\n",
    "    X=Activation(\"relu\")(X)\n",
    "    #maxpool\n",
    "    X=MaxPooling2D((2,2),name=\"max_pool\")(X)\n",
    "    # FLATTEN X (means convert it to a vector) + FULLYCONNECTED\n",
    "    X=Flatten()(X)\n",
    "    X=Dense(1,activation=\"sigmoid\",name=\"fc\")(X)\n",
    "    # Create model. This creates your Keras model instance, you'll use this instance to train/test the model.\n",
    "    model=Model(inputs=X_input,outputs=X,name=\"HappyModel\")\n",
    "    return model"
   ]
  },
  {
   "cell_type": "code",
   "execution_count": 4,
   "metadata": {},
   "outputs": [],
   "source": [
    "def HappyModel(input_shape):\n",
    "    \"\"\"\n",
    "    Implementation of the HappyModel.\n",
    "    \n",
    "    Arguments:\n",
    "    input_shape -- shape of the images of the dataset\n",
    "\n",
    "    Returns:\n",
    "    model -- a Model() instance in Keras\n",
    "    \"\"\"\n",
    "    # Define the input placeholder as a tensor with shape input_shape. Think of this as your input image!\n",
    "    X_input=Input(input_shape)\n",
    "    # Zero-Padding: pads the border of X_input with zeroes\n",
    "    X=ZeroPadding2D((3,3))(X_input)\n",
    "    # CONV -> BN -> RELU Block applied to X\n",
    "    X=Conv2D(32,(7,7),strides=(1,1),name=\"conv0\")(X)\n",
    "    X=BatchNormalization(axis=3,name=\"bn0\")(X)\n",
    "    X=Activation(\"relu\")(X)\n",
    "    #maxpool\n",
    "    X=MaxPooling2D((2,2),name=\"max_pool\")(X)\n",
    "    # FLATTEN X (means convert it to a vector) + FULLYCONNECTED\n",
    "    X=Flatten()(X)\n",
    "    X=Dense(1,activation=\"sigmoid\",name=\"fc\")(X)\n",
    "    # Create model. This creates your Keras model instance, you'll use this instance to train/test the model.\n",
    "    model=Model(inputs=X_input,outputs=X,name=\"HappyModel\")\n",
    "    return model"
   ]
  },
  {
   "cell_type": "code",
   "execution_count": 5,
   "metadata": {},
   "outputs": [],
   "source": [
    "happyModel=HappyModel(X_train.shape[1:])"
   ]
  },
  {
   "cell_type": "code",
   "execution_count": 6,
   "metadata": {},
   "outputs": [],
   "source": [
    "happyModel.compile(\"adam\",\"binary_crossentropy\",metrics=[\"accuracy\"])"
   ]
  },
  {
   "cell_type": "code",
   "execution_count": 7,
   "metadata": {},
   "outputs": [
    {
     "name": "stdout",
     "output_type": "stream",
     "text": [
      "Epoch 1/40\n",
      "600/600 [==============================] - 22s 36ms/step - loss: 2.5891 - acc: 0.5283\n",
      "Epoch 2/40\n",
      "600/600 [==============================] - 22s 36ms/step - loss: 0.6802 - acc: 0.7417\n",
      "Epoch 3/40\n",
      "600/600 [==============================] - 21s 34ms/step - loss: 0.3378 - acc: 0.8650\n",
      "Epoch 4/40\n",
      "600/600 [==============================] - 21s 35ms/step - loss: 0.1771 - acc: 0.9283\n",
      "Epoch 5/40\n",
      "600/600 [==============================] - 22s 36ms/step - loss: 0.1463 - acc: 0.9433\n",
      "Epoch 6/40\n",
      "600/600 [==============================] - 20s 33ms/step - loss: 0.1364 - acc: 0.9400\n",
      "Epoch 7/40\n",
      "600/600 [==============================] - 20s 33ms/step - loss: 0.1225 - acc: 0.9717\n",
      "Epoch 8/40\n",
      "600/600 [==============================] - 23s 38ms/step - loss: 0.1103 - acc: 0.9533\n",
      "Epoch 9/40\n",
      "600/600 [==============================] - 22s 36ms/step - loss: 0.1067 - acc: 0.9683\n",
      "Epoch 10/40\n",
      "600/600 [==============================] - 22s 37ms/step - loss: 0.0678 - acc: 0.9817\n",
      "Epoch 11/40\n",
      "600/600 [==============================] - 21s 36ms/step - loss: 0.0645 - acc: 0.9850\n",
      "Epoch 12/40\n",
      "600/600 [==============================] - 20s 34ms/step - loss: 0.0594 - acc: 0.9883\n",
      "Epoch 13/40\n",
      "600/600 [==============================] - 21s 35ms/step - loss: 0.0597 - acc: 0.9817\n",
      "Epoch 14/40\n",
      "600/600 [==============================] - 25s 42ms/step - loss: 0.0672 - acc: 0.9750\n",
      "Epoch 15/40\n",
      "600/600 [==============================] - 21s 35ms/step - loss: 0.0689 - acc: 0.9833\n",
      "Epoch 16/40\n",
      "600/600 [==============================] - 22s 37ms/step - loss: 0.0489 - acc: 0.9917\n",
      "Epoch 17/40\n",
      "600/600 [==============================] - 24s 40ms/step - loss: 0.0419 - acc: 0.9900\n",
      "Epoch 18/40\n",
      "600/600 [==============================] - 20s 34ms/step - loss: 0.0531 - acc: 0.9917\n",
      "Epoch 19/40\n",
      "600/600 [==============================] - 22s 37ms/step - loss: 0.0471 - acc: 0.9867\n",
      "Epoch 20/40\n",
      "600/600 [==============================] - 21s 34ms/step - loss: 0.0401 - acc: 0.9950\n",
      "Epoch 21/40\n",
      "600/600 [==============================] - 20s 33ms/step - loss: 0.0512 - acc: 0.9883\n",
      "Epoch 22/40\n",
      "600/600 [==============================] - 21s 34ms/step - loss: 0.0468 - acc: 0.9867\n",
      "Epoch 23/40\n",
      "600/600 [==============================] - 21s 34ms/step - loss: 0.0341 - acc: 0.9933\n",
      "Epoch 24/40\n",
      "600/600 [==============================] - 20s 33ms/step - loss: 0.0323 - acc: 0.9933\n",
      "Epoch 25/40\n",
      "600/600 [==============================] - 20s 33ms/step - loss: 0.0310 - acc: 0.9900\n",
      "Epoch 26/40\n",
      "600/600 [==============================] - 21s 35ms/step - loss: 0.0304 - acc: 0.9900\n",
      "Epoch 27/40\n",
      "600/600 [==============================] - 19s 32ms/step - loss: 0.0265 - acc: 0.9950\n",
      "Epoch 28/40\n",
      "600/600 [==============================] - 19s 32ms/step - loss: 0.0337 - acc: 0.9900\n",
      "Epoch 29/40\n",
      "600/600 [==============================] - 20s 33ms/step - loss: 0.0253 - acc: 0.9933\n",
      "Epoch 30/40\n",
      "600/600 [==============================] - 20s 34ms/step - loss: 0.0242 - acc: 0.9950\n",
      "Epoch 31/40\n",
      "600/600 [==============================] - 20s 33ms/step - loss: 0.0198 - acc: 0.9950\n",
      "Epoch 32/40\n",
      "600/600 [==============================] - 21s 34ms/step - loss: 0.0272 - acc: 0.9933\n",
      "Epoch 33/40\n",
      "600/600 [==============================] - 20s 33ms/step - loss: 0.0332 - acc: 0.9900\n",
      "Epoch 34/40\n",
      "600/600 [==============================] - 21s 34ms/step - loss: 0.0356 - acc: 0.9900\n",
      "Epoch 35/40\n",
      "600/600 [==============================] - 19s 32ms/step - loss: 0.0282 - acc: 0.9850\n",
      "Epoch 36/40\n",
      "600/600 [==============================] - 20s 34ms/step - loss: 0.0164 - acc: 0.9950\n",
      "Epoch 37/40\n",
      "600/600 [==============================] - 21s 34ms/step - loss: 0.0196 - acc: 0.9950\n",
      "Epoch 38/40\n",
      "600/600 [==============================] - 20s 34ms/step - loss: 0.0150 - acc: 0.9983\n",
      "Epoch 39/40\n",
      "600/600 [==============================] - 21s 34ms/step - loss: 0.0131 - acc: 0.9950\n",
      "Epoch 40/40\n",
      "600/600 [==============================] - 21s 36ms/step - loss: 0.0123 - acc: 0.9967\n"
     ]
    },
    {
     "data": {
      "text/plain": [
       "<keras.callbacks.History at 0x2dba547bc18>"
      ]
     },
     "execution_count": 7,
     "metadata": {},
     "output_type": "execute_result"
    }
   ],
   "source": [
    "happyModel.fit(X_train,Y_train,batch_size=50,epochs=40)"
   ]
  },
  {
   "cell_type": "code",
   "execution_count": 8,
   "metadata": {},
   "outputs": [
    {
     "name": "stdout",
     "output_type": "stream",
     "text": [
      "150/150 [==============================] - 2s 12ms/step\n",
      "Loss = 0.09551956593990325\n",
      "Test Accuracy = 0.9600000039736429\n"
     ]
    }
   ],
   "source": [
    "preds=happyModel.evaluate(X_test,Y_test,batch_size=32,verbose=1,sample_weight=None) # Verbosity mode. 0 = silent, 1=progress bar.\n",
    "print (\"Loss = \" + str(preds[0]))\n",
    "print (\"Test Accuracy = \" + str(preds[1]))"
   ]
  },
  {
   "cell_type": "code",
   "execution_count": 16,
   "metadata": {},
   "outputs": [
    {
     "name": "stdout",
     "output_type": "stream",
     "text": [
      "X shape=(64, 64, 3)\n",
      "X shape=(64, 64, 3)\n",
      "(64, 64, 3)\n"
     ]
    },
    {
     "ename": "ValueError",
     "evalue": "Error when checking input: expected input_1 to have 4 dimensions, but got array with shape (64, 64, 3)",
     "output_type": "error",
     "traceback": [
      "\u001b[1;31m---------------------------------------------------------------------------\u001b[0m",
      "\u001b[1;31mValueError\u001b[0m                                Traceback (most recent call last)",
      "\u001b[1;32m<ipython-input-16-9f88faa16379>\u001b[0m in \u001b[0;36m<module>\u001b[1;34m\u001b[0m\n\u001b[0;32m      8\u001b[0m \u001b[0mx\u001b[0m \u001b[1;33m=\u001b[0m \u001b[0mpreprocess_input\u001b[0m\u001b[1;33m(\u001b[0m\u001b[0mx\u001b[0m\u001b[1;33m)\u001b[0m \u001b[1;31m#the images you load are compatible with preprocess_input.\u001b[0m\u001b[1;33m\u001b[0m\u001b[1;33m\u001b[0m\u001b[0m\n\u001b[0;32m      9\u001b[0m \u001b[0mprint\u001b[0m\u001b[1;33m(\u001b[0m\u001b[0mx\u001b[0m\u001b[1;33m.\u001b[0m\u001b[0mshape\u001b[0m\u001b[1;33m)\u001b[0m\u001b[1;33m\u001b[0m\u001b[1;33m\u001b[0m\u001b[0m\n\u001b[1;32m---> 10\u001b[1;33m \u001b[0mZ\u001b[0m\u001b[1;33m=\u001b[0m\u001b[0mint\u001b[0m\u001b[1;33m(\u001b[0m\u001b[0mhappyModel\u001b[0m\u001b[1;33m.\u001b[0m\u001b[0mpredict\u001b[0m\u001b[1;33m(\u001b[0m\u001b[0mx\u001b[0m\u001b[1;33m)\u001b[0m\u001b[1;33m)\u001b[0m\u001b[1;33m\u001b[0m\u001b[1;33m\u001b[0m\u001b[0m\n\u001b[0m\u001b[0;32m     11\u001b[0m \u001b[1;32mif\u001b[0m \u001b[0mZ\u001b[0m\u001b[1;33m:\u001b[0m\u001b[1;33m\u001b[0m\u001b[1;33m\u001b[0m\u001b[0m\n\u001b[0;32m     12\u001b[0m     \u001b[0mprint\u001b[0m\u001b[1;33m(\u001b[0m\u001b[1;34m\"Welcome because you are happy\"\u001b[0m\u001b[1;33m)\u001b[0m\u001b[1;33m\u001b[0m\u001b[1;33m\u001b[0m\u001b[0m\n",
      "\u001b[1;32m~\\Anaconda3\\envs\\tensorflow_env\\lib\\site-packages\\keras\\engine\\training.py\u001b[0m in \u001b[0;36mpredict\u001b[1;34m(self, x, batch_size, verbose, steps)\u001b[0m\n\u001b[0;32m   1147\u001b[0m                              'argument.')\n\u001b[0;32m   1148\u001b[0m         \u001b[1;31m# Validate user data.\u001b[0m\u001b[1;33m\u001b[0m\u001b[1;33m\u001b[0m\u001b[1;33m\u001b[0m\u001b[0m\n\u001b[1;32m-> 1149\u001b[1;33m         \u001b[0mx\u001b[0m\u001b[1;33m,\u001b[0m \u001b[0m_\u001b[0m\u001b[1;33m,\u001b[0m \u001b[0m_\u001b[0m \u001b[1;33m=\u001b[0m \u001b[0mself\u001b[0m\u001b[1;33m.\u001b[0m\u001b[0m_standardize_user_data\u001b[0m\u001b[1;33m(\u001b[0m\u001b[0mx\u001b[0m\u001b[1;33m)\u001b[0m\u001b[1;33m\u001b[0m\u001b[1;33m\u001b[0m\u001b[0m\n\u001b[0m\u001b[0;32m   1150\u001b[0m         \u001b[1;32mif\u001b[0m \u001b[0mself\u001b[0m\u001b[1;33m.\u001b[0m\u001b[0mstateful\u001b[0m\u001b[1;33m:\u001b[0m\u001b[1;33m\u001b[0m\u001b[1;33m\u001b[0m\u001b[0m\n\u001b[0;32m   1151\u001b[0m             \u001b[1;32mif\u001b[0m \u001b[0mx\u001b[0m\u001b[1;33m[\u001b[0m\u001b[1;36m0\u001b[0m\u001b[1;33m]\u001b[0m\u001b[1;33m.\u001b[0m\u001b[0mshape\u001b[0m\u001b[1;33m[\u001b[0m\u001b[1;36m0\u001b[0m\u001b[1;33m]\u001b[0m \u001b[1;33m>\u001b[0m \u001b[0mbatch_size\u001b[0m \u001b[1;32mand\u001b[0m \u001b[0mx\u001b[0m\u001b[1;33m[\u001b[0m\u001b[1;36m0\u001b[0m\u001b[1;33m]\u001b[0m\u001b[1;33m.\u001b[0m\u001b[0mshape\u001b[0m\u001b[1;33m[\u001b[0m\u001b[1;36m0\u001b[0m\u001b[1;33m]\u001b[0m \u001b[1;33m%\u001b[0m \u001b[0mbatch_size\u001b[0m \u001b[1;33m!=\u001b[0m \u001b[1;36m0\u001b[0m\u001b[1;33m:\u001b[0m\u001b[1;33m\u001b[0m\u001b[1;33m\u001b[0m\u001b[0m\n",
      "\u001b[1;32m~\\Anaconda3\\envs\\tensorflow_env\\lib\\site-packages\\keras\\engine\\training.py\u001b[0m in \u001b[0;36m_standardize_user_data\u001b[1;34m(self, x, y, sample_weight, class_weight, check_array_lengths, batch_size)\u001b[0m\n\u001b[0;32m    749\u001b[0m             \u001b[0mfeed_input_shapes\u001b[0m\u001b[1;33m,\u001b[0m\u001b[1;33m\u001b[0m\u001b[1;33m\u001b[0m\u001b[0m\n\u001b[0;32m    750\u001b[0m             \u001b[0mcheck_batch_axis\u001b[0m\u001b[1;33m=\u001b[0m\u001b[1;32mFalse\u001b[0m\u001b[1;33m,\u001b[0m  \u001b[1;31m# Don't enforce the batch size.\u001b[0m\u001b[1;33m\u001b[0m\u001b[1;33m\u001b[0m\u001b[0m\n\u001b[1;32m--> 751\u001b[1;33m             exception_prefix='input')\n\u001b[0m\u001b[0;32m    752\u001b[0m \u001b[1;33m\u001b[0m\u001b[0m\n\u001b[0;32m    753\u001b[0m         \u001b[1;32mif\u001b[0m \u001b[0my\u001b[0m \u001b[1;32mis\u001b[0m \u001b[1;32mnot\u001b[0m \u001b[1;32mNone\u001b[0m\u001b[1;33m:\u001b[0m\u001b[1;33m\u001b[0m\u001b[1;33m\u001b[0m\u001b[0m\n",
      "\u001b[1;32m~\\Anaconda3\\envs\\tensorflow_env\\lib\\site-packages\\keras\\engine\\training_utils.py\u001b[0m in \u001b[0;36mstandardize_input_data\u001b[1;34m(data, names, shapes, check_batch_axis, exception_prefix)\u001b[0m\n\u001b[0;32m    126\u001b[0m                         \u001b[1;34m': expected '\u001b[0m \u001b[1;33m+\u001b[0m \u001b[0mnames\u001b[0m\u001b[1;33m[\u001b[0m\u001b[0mi\u001b[0m\u001b[1;33m]\u001b[0m \u001b[1;33m+\u001b[0m \u001b[1;34m' to have '\u001b[0m \u001b[1;33m+\u001b[0m\u001b[1;33m\u001b[0m\u001b[1;33m\u001b[0m\u001b[0m\n\u001b[0;32m    127\u001b[0m                         \u001b[0mstr\u001b[0m\u001b[1;33m(\u001b[0m\u001b[0mlen\u001b[0m\u001b[1;33m(\u001b[0m\u001b[0mshape\u001b[0m\u001b[1;33m)\u001b[0m\u001b[1;33m)\u001b[0m \u001b[1;33m+\u001b[0m \u001b[1;34m' dimensions, but got array '\u001b[0m\u001b[1;33m\u001b[0m\u001b[1;33m\u001b[0m\u001b[0m\n\u001b[1;32m--> 128\u001b[1;33m                         'with shape ' + str(data_shape))\n\u001b[0m\u001b[0;32m    129\u001b[0m                 \u001b[1;32mif\u001b[0m \u001b[1;32mnot\u001b[0m \u001b[0mcheck_batch_axis\u001b[0m\u001b[1;33m:\u001b[0m\u001b[1;33m\u001b[0m\u001b[1;33m\u001b[0m\u001b[0m\n\u001b[0;32m    130\u001b[0m                     \u001b[0mdata_shape\u001b[0m \u001b[1;33m=\u001b[0m \u001b[0mdata_shape\u001b[0m\u001b[1;33m[\u001b[0m\u001b[1;36m1\u001b[0m\u001b[1;33m:\u001b[0m\u001b[1;33m]\u001b[0m\u001b[1;33m\u001b[0m\u001b[1;33m\u001b[0m\u001b[0m\n",
      "\u001b[1;31mValueError\u001b[0m: Error when checking input: expected input_1 to have 4 dimensions, but got array with shape (64, 64, 3)"
     ]
    },
    {
     "data": {
      "image/png": "[encoded data removed]",
      "text/plain": [
       "<Figure size 432x288 with 1 Axes>"
      ]
     },
     "metadata": {
      "needs_background": "light"
     },
     "output_type": "display_data"
    }
   ],
   "source": [
    "img_path = 'images/Test_5.jpg'\n",
    "img = image.load_img(img_path, target_size=(64, 64))\n",
    "imshow(img)\n",
    "x = image.img_to_array(img)\n",
    "print(\"X shape=\"+str(x.shape))\n",
    "# x = np.expand_dims(x, axis=0)\n",
    "print(\"X shape=\"+str(x.shape))\n",
    "x = preprocess_input(x) #the images you load are compatible with preprocess_input.\n",
    "print(x.shape)\n",
    "Z=int(happyModel.predict(x))\n",
    "if Z:\n",
    "    print(\"Welcome because you are happy\")\n",
    "else:\n",
    "    print(\"You are not allowed\")"
   ]
  },
  {
   "cell_type": "code",
   "execution_count": null,
   "metadata": {},
   "outputs": [],
   "source": []
  },
  {
   "cell_type": "code",
   "execution_count": null,
   "metadata": {},
   "outputs": [],
   "source": []
  }
 ],
 "metadata": {
  "kernelspec": {
   "display_name": "Python 3",
   "language": "python",
   "name": "python3"
  },
  "language_info": {
   "codemirror_mode": {
    "name": "ipython",
    "version": 3
   },
   "file_extension": ".py",
   "mimetype": "text/x-python",
   "name": "python",
   "nbconvert_exporter": "python",
   "pygments_lexer": "ipython3",
   "version": "3.6.8"
  }
 },
 "nbformat": 4,
 "nbformat_minor": 2
}
